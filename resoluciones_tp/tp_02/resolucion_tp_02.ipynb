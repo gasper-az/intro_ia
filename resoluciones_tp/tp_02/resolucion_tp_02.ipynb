{
 "cells": [
  {
   "cell_type": "markdown",
   "id": "3332deb5",
   "metadata": {},
   "source": [
    "# TP2: Regresión del valor de valor medio de casas en distritos de California"
   ]
  },
  {
   "cell_type": "markdown",
   "id": "f9a27854",
   "metadata": {},
   "source": [
    "## Integrantes\n",
    "\n",
    "- Nicolás Rodriguez da Cruz\n",
    "- Francisco Cofré\n",
    "- Gaspar Acevedo Zain\n",
    "- Juan Chunga\n",
    "- Rodrigo Nicolás Lauro"
   ]
  },
  {
   "cell_type": "markdown",
   "id": "3e58adc9",
   "metadata": {},
   "source": [
    "### 1. Obtener la correlación entre los atributos y entre los atributos y el target\n",
    "\n",
    "1. ¿Qué atributo tiene mayor correlación lineal con el target? \n",
    "1. ¿Cuáles atributos parecen estar más correlacionados entre sí? Se pueden calcular los coeficientes de correlación o representarlos gráficamente mediante un mapa de calor."
   ]
  },
  {
   "cell_type": "markdown",
   "id": "f534fa56",
   "metadata": {},
   "source": [
    "### 2. Graficar los histogramas de los distintos atributos y del target.\n",
    "\n",
    "1. ¿Qué forma presentan los histogramas?\n",
    "1. ¿Alguno muestra una distribución similar a una campana que sugiera una distribución gaussiana, sin necesidad de realizar pruebas de hipótesis?"
   ]
  },
  {
   "cell_type": "markdown",
   "id": "22956a85",
   "metadata": {},
   "source": [
    "### 3. Calcular una regresión lineal utilizando todos los atributos.\n",
    "1. Con el conjunto de entrenamiento, calcular la varianza total del modelo y la varianza explicada por el modelo.\n",
    "1. ¿Está el modelo capturando adecuadamente el comportamiento del target? Fundamente su respuesta."
   ]
  },
  {
   "cell_type": "markdown",
   "id": "fb266834",
   "metadata": {},
   "source": [
    "### 4. Calcular las métricas de MSE, MAE y R² sobre el conjunto de evaluación."
   ]
  },
  {
   "cell_type": "markdown",
   "id": "6138c4e0",
   "metadata": {},
   "source": [
    "### 5. Crear una regresión de Ridge\n",
    "\n",
    "1. Usar validación cruzada de 5 folds y tomar como métrica el MSE.\n",
    "1. Buscar el mejor valor de α en el rango [0, 12.5].\n",
    "1. Graficar el MSE en función de α."
   ]
  },
  {
   "cell_type": "markdown",
   "id": "dcda8159",
   "metadata": {},
   "source": [
    "### 6. Comparar los resultados obtenidos entre la regresión lineal y la mejor regresión de Ridge, evaluando el conjunto de prueba\n",
    "\n",
    "1. ¿Cuál de los dos modelos obtiene mejores resultados en términos de MSE y MAE? ¿Poseen suficiente diferencia como para indicar si uno es mejor que el otro?\n",
    "1. ¿Qué tipo de error podría haberse reducido?"
   ]
  }
 ],
 "metadata": {
  "language_info": {
   "name": "python"
  }
 },
 "nbformat": 4,
 "nbformat_minor": 5
}
