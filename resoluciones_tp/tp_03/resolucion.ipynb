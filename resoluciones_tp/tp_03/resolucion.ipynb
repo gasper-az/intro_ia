{
 "cells": [
  {
   "cell_type": "markdown",
   "id": "3294318e",
   "metadata": {},
   "source": [
    "# TP3: Detector de SPAM"
   ]
  },
  {
   "cell_type": "markdown",
   "id": "3865e657",
   "metadata": {},
   "source": [
    "## Integrantes\n",
    "\n",
    "- Nicolás Rodriguez da Cruz\n",
    "- Francisco Cofré\n",
    "- Gaspar Acevedo Zain\n",
    "- Juan Chunga\n",
    "- Rodrigo Nicolás Lauro"
   ]
  },
  {
   "cell_type": "markdown",
   "id": "30260e12",
   "metadata": {},
   "source": [
    "### 1. ¿Cuáles son las 10 palabras o símbolos más frecuentes en correos SPAM y en correos NO SPAM?\n",
    "\n",
    "1. ¿Hay palabras o símbolos en común?\n",
    "1. ¿Alguna resulta llamativa?"
   ]
  },
  {
   "cell_type": "markdown",
   "id": "01e336d2",
   "metadata": {},
   "source": [
    "### 2. Separe el conjunto de datos en un conjunto de entrenamiento (70%) y uno de prueba (30%)."
   ]
  },
  {
   "cell_type": "markdown",
   "id": "312db254",
   "metadata": {},
   "source": [
    "### 3. Utilizando un **clasificador de Bayes ingenuo**, entrene el modelo con el conjunto de entrenamiento."
   ]
  },
  {
   "cell_type": "markdown",
   "id": "abb0a0c7",
   "metadata": {},
   "source": [
    "### 4. Utilizando un **clasificador de Regresión Logística**, entrene el modelo con el conjunto de entrenamiento (en este caso, normalice los datos)."
   ]
  },
  {
   "cell_type": "markdown",
   "id": "b84075d4",
   "metadata": {},
   "source": [
    "### 5. Calcule la **matriz de confusión** en el conjunto de prueba para ambos modelos.\n",
    "\n",
    "1. ¿Qué tipo de error comete más cada modelo?\n",
    "1. ¿Cuál de los dos tipos de error considera más importante en este problema?"
   ]
  },
  {
   "cell_type": "markdown",
   "id": "05eaeb58",
   "metadata": {},
   "source": [
    "### 6. Calcule las **métricas de precisión (precision) y recuperación (recall)** para ambos modelos.\n",
    "\n",
    "1. ¿Cuál es el mejor modelo según cada métrica?\n",
    "1. ¿Cómo se relacionan estas métricas con los errores analizados en el punto anterior? Fundamente su respuesta."
   ]
  },
  {
   "cell_type": "markdown",
   "id": "97c06ff8",
   "metadata": {},
   "source": [
    "### 7. Obtenga la **curva ROC y el AUC (Área Bajo la Curva ROC)** de ambos modelos."
   ]
  }
 ],
 "metadata": {
  "language_info": {
   "name": "python"
  }
 },
 "nbformat": 4,
 "nbformat_minor": 5
}
