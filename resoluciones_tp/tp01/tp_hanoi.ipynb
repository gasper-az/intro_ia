{
 "cells": [
  {
   "cell_type": "markdown",
   "id": "3a891e6c",
   "metadata": {},
   "source": [
    "# TP1: Algoritmos de búsqueda en Torre de Hanoi"
   ]
  },
  {
   "cell_type": "markdown",
   "id": "96986981",
   "metadata": {},
   "source": [
    "## Integrantes\n",
    "\n",
    "- Nicolás Rodriguez da Cruz\n",
    "- Francisco Cofré\n",
    "- Gaspar Acevedo Zain\n",
    "- Juan Chunga\n",
    "- Rodrigo Nicolás Lauro"
   ]
  },
  {
   "cell_type": "markdown",
   "id": "53424be3",
   "metadata": {},
   "source": [
    "### 1. ¿Cuáles son los PEAS de este problema? (Performance, Environment, Actuators, Sensors)\n",
    "\n",
    "- **Performance**\n",
    "  - Para el problema de Torre de Hanoi, la medida de performance son la cantidad de movimientos mínimos necesarios para transicionar entre el estado de inicial (discos ubicados en la primer varilla) al estado objetivo (todos los discos ubicados en la tercer varilla).\n",
    "- **Environment**\n",
    "  - Consiste en un total de tres varillas y cinco discos. Inicialmente, los cinco discos están ubicados en la primer varilla (estado inicial).\n",
    "- **Actuators**\n",
    "  - Son el conjunto de libraries (estructura de datos, funciones, clases, etc.) que permiten realizar los pasos necesarios para transicionar entre estados del problema.\n",
    "- **Sensors**\n",
    "  - Son el conjunto de libraries (estructura de datos, funciones, clases, etc.) que permiten leer el estado actual del problema, es decir, la ubicación de los cinco discos en las tres varillas en un momento dado."
   ]
  },
  {
   "cell_type": "markdown",
   "id": "9de87267",
   "metadata": {},
   "source": [
    "### 2. ¿Cuáles son las propiedades del entorno de trabajo?\n",
    "- **Totalmente observable**: ya que los sensores del agente le permiten conocer el estado de manera completa en cualquier momento, es decir, como se distribuyen los cinco discos entre las tres varillas.\n",
    "- **Determinista**: ya que ante un estado *origen* determinado, usando un mismo algoritmo determinado, siempre se ejecutará la misma acción para transicionar a un mismo estado *destino*.\n",
    "- **Secuencial**: ya que cada movimiento que realiza el agente afecta a los estados posteriores.\n",
    "- **Estático**: ya que el ambiente/entorno no cambia sin acciones del agente.\n",
    "- **Discreto**: ya que los estados del problema y acciones que realiza el agente para llegar a ellos son finitos.\n",
    "- **Agente individual**: ya que hay un solo agente que interactúa con el ambiente/entorno."
   ]
  },
  {
   "cell_type": "markdown",
   "id": "8eae8452",
   "metadata": {},
   "source": [
    "### 3. En el contexto de este problema, defina los siguientes conceptos:\n",
    "- **Estado**: corresponde a la ubicación de cada disco en función de las varillas, en un momento dado.\n",
    "- **Espacio de estados**: corresponde a las distintas combinaciones de estados.\n",
    "- **Árbol de búsqueda**: estructura en la que cada nodo representa un estado y las aristas, acciones.  \n",
    "- **Nodo de búsqueda**: elemento del árbol que contiene estado, padre, acción y costo acumulado.  \n",
    "- **Objetivo**: consiste en el estado final que soluciona al problema de Torres de Hanoi, siendo este el que contiene todos los discos en la última varilla.\n",
    "- **Acción**: consiste en las operaciones que realiza el agente para pasar de un estado a otro, respetando la regla de no posicionar un disco más grande sobre otro más pequeño.\n",
    "- **Frontera**: consiste en los nodos que genera el algoritmo para explorar, pero que no fueron expandidos."
   ]
  },
  {
   "cell_type": "markdown",
   "id": "c3cf33d9",
   "metadata": {},
   "source": [
    "### 4. Implementación del algoritmo: IDDFS\n",
    "\n",
    "Se utiliza **Iterative Deepening Depth-First Search (IDDFS)** para encontrar la solución óptima. `IDDFS` funciona de forma tal que ejecuta sucesivas búsquedas en profundidad con un límite creciente de profundidad (0, luego 1, luego 2, …) hasta encontrar el estado objetivo. En cada iteración, realiza una `DFS` “acotada” que explora tan profundo como lo permita el límite actual y luego retrocede, combinando la baja memoria de `DFS` ($O(b·d)$, donde b es el factor de ramificación y d la profundidad de la solución) con la garantía de optimalidad de BFS en espacios de estado de coste uniforme."
   ]
  },
  {
   "cell_type": "code",
   "execution_count": 1,
   "id": "f02e2758",
   "metadata": {},
   "outputs": [
    {
     "name": "stdout",
     "output_type": "stream",
     "text": [
      "Solución encontrada en 31 movimientos.\n"
     ]
    }
   ],
   "source": [
    "def successors(state, num_pegs=3, num_disks=5):\n",
    "    \"\"\"Genera estados sucesores de un estado dado.\"\"\"\n",
    "    succ = []\n",
    "    for peg in range(num_pegs):\n",
    "        disks_on_peg = [i for i, p in enumerate(state) if p == peg]\n",
    "        if not disks_on_peg:\n",
    "            continue\n",
    "        top_disk = min(disks_on_peg)\n",
    "        for dest in range(num_pegs):\n",
    "            if dest == peg:\n",
    "                continue\n",
    "            disks_on_dest = [i for i, p in enumerate(state) if p == dest]\n",
    "            if disks_on_dest and min(disks_on_dest) < top_disk:\n",
    "                continue\n",
    "            new_state = list(state)\n",
    "            new_state[top_disk] = dest\n",
    "            succ.append(tuple(new_state))\n",
    "    return succ\n",
    "\n",
    "def recursive_dls(state, goal, limit, path):\n",
    "    if state == goal:\n",
    "        return path\n",
    "    elif limit == 0:\n",
    "        return 'cutoff'\n",
    "    else:\n",
    "        cutoff_occurred = False\n",
    "        for child in successors(state):\n",
    "            if child in path:\n",
    "                continue\n",
    "            result = recursive_dls(child, goal, limit - 1, path + [child])\n",
    "            if result == 'cutoff':\n",
    "                cutoff_occurred = True\n",
    "            elif result is not None:\n",
    "                return result\n",
    "        return 'cutoff' if cutoff_occurred else None\n",
    "\n",
    "def iddfs(initial, goal):\n",
    "    depth = 0\n",
    "    while True:\n",
    "        result = recursive_dls(initial, goal, depth, [initial])\n",
    "        if result != 'cutoff' and result is not None:\n",
    "            return result\n",
    "        depth += 1\n",
    "\n",
    "disks = 5\n",
    "initial_state = tuple([0] * disks)\n",
    "goal_state = tuple([2] * disks)\n",
    "\n",
    "demo_path = iddfs(initial_state, goal_state)\n",
    "print(f\"Solución encontrada en {len(demo_path)-1} movimientos.\")"
   ]
  },
  {
   "cell_type": "markdown",
   "id": "8e04ae4b",
   "metadata": {},
   "source": [
    "### 5. Complejidad teórica\n",
    "\n",
    "- **Tiempo**\n",
    "  - $O(b^d)$\n",
    "    - `b` o **branching factor**: el número máximo de sucesores para un estado\n",
    "    - `d` o **profundidad de solución**: es decir, la longitud del camino más corto del árbol de búsqueda\n",
    "  - Cada vez que sube un nivel de profundidad (de 0 a 1, de 1 a 2, … hasta la solución), vuelve a explorar todos los caminos anteriores. Cuanto más lejos esté la solución, más crece el trabajo: agregar un disco extra puede llegar a duplicar aproximadamente el esfuerzo. Es decir, el tiempo necesario aumenta muy rápido (de forma exponencial) al sumar discos.\n",
    "\n",
    "- **Memoria**\n",
    "  - $O(b*d)$\n",
    "    - `b` o **branching factor**: el número máximo de sucesores para un estado\n",
    "    - `d` o **profundidad de solución**: es decir, la longitud del camino más corto del árbol de búsqueda\n",
    "  - En lugar de recordar todos los estados de un mismo nivel (como hace BFS), IDDFS solo necesita guardar la “ruta” actual desde el inicio hasta donde está profundizando en ese momento. Si la solución final son 31 movimientos, en memoria habrá como máximo 31 estados apilados. Así, el uso de memoria crece de manera moderada, directamente relacionado con cuántos movimientos (o discos) haya, no con todos los posibles estados juntos."
   ]
  },
  {
   "cell_type": "markdown",
   "id": "bc2a908e",
   "metadata": {},
   "source": [
    "### 6. Medición de tiempo y memoria del algoritmo\n",
    "\n",
    "**Consumo de Memoria**\n",
    "En un total de diez ejecuciones, el algoritmo `IDDFS` consume, en KiB:\n",
    "- En **promedio**, `12.98 KiB`, con un **Desvío estandar** de `1.56 KiB`\n",
    "\n",
    "**Tiempo de ejecución**\n",
    "En un total de diez ejecuciones, el algoritmo `IDDFS` tardó, en segundos:\n",
    "- En **promedio** `1931.5016 segundos`, con un **Desvío estandar** de `46.55 segundos`"
   ]
  },
  {
   "cell_type": "code",
   "execution_count": 2,
   "id": "e5cf8c44",
   "metadata": {},
   "outputs": [
    {
     "name": "stdout",
     "output_type": "stream",
     "text": [
      "Tiempo promedio: 1931.501635s ± 46.550089s\n",
      "Memoria pico promedio: 12.98 KiB ± 1.56 KiB\n"
     ]
    }
   ],
   "source": [
    "import time\n",
    "import tracemalloc\n",
    "import statistics\n",
    "\n",
    "times = []\n",
    "memories = []\n",
    "for _ in range(10):\n",
    "    tracemalloc.start()\n",
    "    t0 = time.perf_counter()\n",
    "    path = iddfs(initial_state, goal_state)\n",
    "    t1 = time.perf_counter()\n",
    "    current, peak = tracemalloc.get_traced_memory()\n",
    "    tracemalloc.stop()\n",
    "    times.append(t1 - t0)\n",
    "    memories.append(peak)\n",
    "\n",
    "avg_time = statistics.mean(times)\n",
    "stdev_time = statistics.stdev(times)\n",
    "avg_mem = statistics.mean(memories)\n",
    "stdev_mem = statistics.stdev(memories)\n",
    "\n",
    "print(f\"Tiempo promedio: {avg_time:.6f}s ± {stdev_time:.6f}s\")\n",
    "print(f\"Memoria pico promedio: {avg_mem/1024:.2f} KiB ± {stdev_mem/1024:.2f} KiB\")"
   ]
  },
  {
   "cell_type": "markdown",
   "id": "aaa85f77",
   "metadata": {},
   "source": [
    "### 7. Comparación con la solución óptima\n",
    "\n",
    "Siendo la solución óptima $2^k – 1$, empleando ***5*** discos como ***k*** esta queda en ***31 movimientos***.\n",
    "\n",
    "Para el problema de Torres de Hanoi con las siguientes características:\n",
    "- Cantidad de discos: cinco (5)\n",
    "- Cantidad de varillas: tres (3)\n",
    "- Algoritmo: `IDDFS`\n",
    "\n",
    "se logró alcanzar la solución en la cantidad de movimientos óptimos: ***31 movimientos***."
   ]
  },
  {
   "cell_type": "code",
   "execution_count": null,
   "id": "89d32591",
   "metadata": {},
   "outputs": [],
   "source": [
    "import statistics\n",
    "\n",
    "disks = 5\n",
    "initial_state = tuple([0] * disks)\n",
    "goal_state = tuple([2] * disks)\n",
    "\n",
    "results = []\n",
    "results_len = []\n",
    "for _ in range(10):\n",
    "    path = iddfs(initial_state, goal_state)\n",
    "\n",
    "    results.append(path)\n",
    "    results_len.append(len(path) -1)\n",
    "\n",
    "avg_res_len = statistics.mean(results_len)\n",
    "stdev_res_len = statistics.stdev(results_len)\n",
    "\n",
    "print(f\"Cantidad de movimientos promedio en 10 ejecuciones: {avg_res_len} ± {stdev_res_len}\")\n"
   ]
  }
 ],
 "metadata": {
  "kernelspec": {
   "display_name": "maestria-ia-dbxZBVZt-py3.12",
   "language": "python",
   "name": "python3"
  },
  "language_info": {
   "codemirror_mode": {
    "name": "ipython",
    "version": 3
   },
   "file_extension": ".py",
   "mimetype": "text/x-python",
   "name": "python",
   "nbconvert_exporter": "python",
   "pygments_lexer": "ipython3",
   "version": "3.12.0"
  }
 },
 "nbformat": 4,
 "nbformat_minor": 5
}
