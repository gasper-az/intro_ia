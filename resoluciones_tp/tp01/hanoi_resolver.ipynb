{
 "cells": [
  {
   "cell_type": "markdown",
   "id": "2dccb7b7",
   "metadata": {},
   "source": [
    "# NO PRESENTAR - TP1: Algoritmos de búsqueda en Torre de Hanoi"
   ]
  },
  {
   "cell_type": "markdown",
   "id": "aa5d6de9",
   "metadata": {},
   "source": [
    "## Integrantes\n",
    "\n",
    "- Nicolás Rodriguez da Cruz\n",
    "- Francisco Cofré\n",
    "- Gaspar Acevedo Zain\n",
    "- Juan Chunga\n",
    "- Rodrigo Nicolás Lauro"
   ]
  },
  {
   "cell_type": "markdown",
   "id": "9d6fff34",
   "metadata": {},
   "source": [
    "## Resolución"
   ]
  },
  {
   "cell_type": "markdown",
   "id": "5d3db5fb",
   "metadata": {},
   "source": [
    "### 1. ¿Cuáles son los PEAS de este problema? (Performance, Environment, Actuators, Sensors)\n",
    "\n",
    "- **Performance**\n",
    "  - Para el problema de Torre de Hanoi, la medida de performance son la cantidad de movimientos mínimos necesarios para transicionar entre el estado de inicial (discos ubicados en la primer varilla) al estado objetivo (todos los discos ubicados en la tercer varilla).\n",
    "- **Environment**\n",
    "  - Consiste en un total de tres varillas y cinco discos. Inicialmente, los cinco discos están ubicados en la primer varilla (estado inicial).\n",
    "- **Actuators**\n",
    "  - Son el conjunto de libraries de `aima_libs` (estructura de datos, funciones, clases, etc.) que permiten realizar los pasos necesarios para transicionar entre estados del problema.\n",
    "- **Sensors**\n",
    "  - Son el conjunto de libraries de `aima_libs` (estructura de datos, funciones, clases, etc.) que permiten leer el estado actual del problema, es decir, la ubicación de los cinco discos en las tres varillas en un momento dado."
   ]
  },
  {
   "cell_type": "markdown",
   "id": "e264c77f",
   "metadata": {},
   "source": [
    "### 2. ¿Cuáles son las propiedades del entorno de trabajo?\n",
    "- **Totalmente observable**: ya que los sensores del agente le permiten conocer el estado de manera completa en cualquier momento, es decir, como se distribuyen los cinco discos entre las tres varillas.\n",
    "- **Determinista**: ya que ante un estado *origen* determinado, usando un mismo algoritmo determinado, siempre se ejecutará la misma acción para transicionar a un mismo estado *destino*.\n",
    "- **Secuencial**: ya que cada movimiento que realiza el agente afecta a futuros movimientos.\n",
    "- **Estático**: ya que el ambiente/entorno solo es afectado por las acciones del agente.\n",
    "- **Discreto**: ya que los estados del problema y movimientos que realiza el agente para llegar a ellos son finitos.\n",
    "- **Agente individual**: ya que hay un solo agente que interactúa con el ambiente/entorno."
   ]
  },
  {
   "cell_type": "markdown",
   "id": "8271f28d",
   "metadata": {},
   "source": [
    "### 3. En el contexto de este problema, defina los siguientes conceptos:\n",
    "- **Estado**: corresponde a la ubicación de cada disco en función de las varillas, en un momento dado.\n",
    "- **Espacio de estados**: corresponde a las distintas combinaciones de estados.\n",
    "- **Árbol de búsqueda**: estructura en la que cada nodo representa un estado y las aristas, acciones.  \n",
    "- **Nodo de búsqueda**: elemento del árbol que contiene estado, padre, acción y costo acumulado.  \n",
    "- **Objetivo**: consiste en el estado final que soluciona al problema de Torres de Hanoi, siendo este el que contiene los cinco discos en la última varilla.\n",
    "- **Acción**: consiste en las operaciones que realiza el agente para pasar de un estado a otro.\n",
    "- **Frontera**: consiste en los nodos que genera el algoritmo para explorar, pero que no fueron expandidos."
   ]
  },
  {
   "cell_type": "markdown",
   "id": "00cebe30",
   "metadata": {},
   "source": [
    "### 4. Implementación del algoritmo A*\n",
    "\n",
    "- Heurística\n",
    "  - Utilizamos la heurística provista en clase, la cual consta de, para un estado de un nodo dado, restar un punto por cada disco en la última varilla.\n",
    "  - `H(nodo) = (nodo.estado.cant_discos_en_última_varilla)*(-1)`\n",
    "- Función Costo\n",
    "  - Dado que el costo de mover un disco es *ínfimo*, lo consideramos como costo `1`, idéntico para todos los discos\n",
    "  - `G(nodo) = 1`"
   ]
  },
  {
   "cell_type": "code",
   "execution_count": 2,
   "id": "7df1c166",
   "metadata": {},
   "outputs": [],
   "source": [
    "from metrics_calculator import MetricsCalculator\n",
    "from search_algorithms import SearchAlgorithms"
   ]
  },
  {
   "cell_type": "code",
   "execution_count": 3,
   "id": "2a046362",
   "metadata": {},
   "outputs": [],
   "source": [
    "cantidad_de_discos = 5\n",
    "cantidad_de_ejecuciones = 10\n",
    "# Lambda para calcular el costo. Para Hanoi, el costo de ejecutar una acción para pasar de estado siempre será de 1.\n",
    "costo = lambda nodo : 1\n",
    "\n",
    "searchAlgorithms = SearchAlgorithms(cantidad_de_discos=cantidad_de_discos)"
   ]
  },
  {
   "cell_type": "code",
   "execution_count": 4,
   "id": "52cf8c1d",
   "metadata": {},
   "outputs": [],
   "source": [
    "# Heurísticas\n",
    "\n",
    "# Heurística 1 (dada en clase): suma \"-1\" por cada disco posicionado en la última varilla.\n",
    "# NOTA: hacemos uso de una lambda, para poder \"pasarla\" a la función de A*, y ejecutarla fácilmente dentro de la misma\n",
    "heuristica_posicion_correcta = lambda nodo : -len(nodo.state.get_state_dict()[\"peg_3\"])\n",
    "\n",
    "# Heurística 2 (dada en clase): Consiste en 5 más el resultado de \"Heurística 1\" para un estado dado.\n",
    "# NOTA: hacemos uso de una lambda, para poder \"pasarla\" a la función de A*, y ejecutarla fácilmente dentro de la misma\n",
    "lambda_heuristica_posicion_correcta_inversa = lambda cant_discos, fn : (lambda arg : cant_discos + fn(arg))\n",
    "heuristica_posicion_correcta_inversa = lambda_heuristica_posicion_correcta_inversa(cantidad_de_discos, heuristica_posicion_correcta)"
   ]
  },
  {
   "cell_type": "code",
   "execution_count": null,
   "id": "6ce5b4f5",
   "metadata": {},
   "outputs": [],
   "source": [
    "# Resolvemos el problema de Torres de Hanoi utilizando el algoritmo A*\n",
    "solution, metrics = searchAlgorithms.a_star_search(costo=costo, heuristica=heuristica_posicion_correcta)\n",
    "\n",
    "solution.generate_solution_for_simulator()"
   ]
  },
  {
   "cell_type": "markdown",
   "id": "d494a7b0",
   "metadata": {},
   "source": [
    "### 5. ¿Cuál es la complejidad teórica en tiempo y memoria del algoritmo elegido?\n",
    "\n",
    "La complejidad del Algoritmo `A*` es $O(b^d)$ tanto en tiempo y memoria, siendo:\n",
    "- `b` o **branching factor**: el número máximo de sucesores para un estado\n",
    "- `d` o **profundidad de solución**: es decir, la longitud del camino más corto del árbol de búsqueda"
   ]
  },
  {
   "cell_type": "markdown",
   "id": "16eddb2b",
   "metadata": {},
   "source": [
    "### 6. A nivel de implementación, ¿cuánto tiempo y memoria utiliza el algoritmo?\n",
    "\n",
    "**Consumo de Memoria**\n",
    "En un total de diez ejecuciones, el algoritmo `A*` consume, en MB:\n",
    "- En **promedio**, `0.256 MB`, con un **Desvío estandar** de `0.067 MB`\n",
    "- El pico **máximo** consumo de memoria fue de `0.399 MB`\n",
    "- El pico **mínimo** de consumo de memoria fue de `0.2188 MB`\n",
    "\n",
    "**Tiempo de ejecución**\n",
    "En un total de diez ejecuciones, el algoritmo `A*` tardó, en segundos:\n",
    "- En **promedio** `0.2955 segundos`, con un **Desvío estandar** de `0.0933 segundos`\n",
    "- Como máximo tardó `0.5247 segundos` en resolver el problema\n",
    "- Como mínimo tardó `0.1972 segundos` en resolver el problema"
   ]
  },
  {
   "cell_type": "code",
   "execution_count": 6,
   "id": "70825430",
   "metadata": {},
   "outputs": [],
   "source": [
    "# Lambdas necesarias para Calcular Métricas\n",
    "lambda_funcion_a_ejecutar = lambda function, costo, heuristica : (lambda x=None: function(costo, heuristica))\n",
    "funcion_a_ejecutar = lambda_funcion_a_ejecutar(searchAlgorithms.a_star_search, costo, heuristica_posicion_correcta)"
   ]
  },
  {
   "cell_type": "code",
   "execution_count": 7,
   "id": "7cafe073",
   "metadata": {},
   "outputs": [],
   "source": [
    "# Memoria\n",
    "metricsCalculator = MetricsCalculator(cantidad_de_ejecuciones=cantidad_de_ejecuciones, funcion_a_ejecutar=funcion_a_ejecutar)\n",
    "result = metricsCalculator.calcular_memoria()"
   ]
  },
  {
   "cell_type": "code",
   "execution_count": 8,
   "id": "1a7efc67",
   "metadata": {},
   "outputs": [
    {
     "name": "stdout",
     "output_type": "stream",
     "text": [
      "Promedio de memoria ocupada [MB] 0.25302724838256835\n",
      "Desvío estandar de memoria ocupada [MB] 0.058008557711681376\n",
      "Máxima memoria ocupada [MB] 0.3604907989501953\n",
      "Mínimo memoria ocupada [MB] 0.21906471252441406\n"
     ]
    }
   ],
   "source": [
    "print(\"Promedio de memoria ocupada [MB]\", result[\"promedio\"])\n",
    "print(\"Desvío estandar de memoria ocupada [MB]\", result[\"desvio\"])\n",
    "print(\"Máxima memoria ocupada [MB]\", result[\"maximo\"])\n",
    "print(\"Mínimo memoria ocupada [MB]\", result[\"minimo\"])"
   ]
  },
  {
   "cell_type": "code",
   "execution_count": 9,
   "id": "191919dd",
   "metadata": {},
   "outputs": [],
   "source": [
    "# Tiempo\n",
    "metricsCalculator = MetricsCalculator(cantidad_de_ejecuciones=cantidad_de_ejecuciones, funcion_a_ejecutar=funcion_a_ejecutar)\n",
    "result = metricsCalculator.calcular_tiempo()"
   ]
  },
  {
   "cell_type": "code",
   "execution_count": 10,
   "id": "4e3ca0c1",
   "metadata": {},
   "outputs": [
    {
     "name": "stdout",
     "output_type": "stream",
     "text": [
      "Promedio de tiempo [sec] 0.21080552998464555\n",
      "Desvío estandar de tiempo de ejecución [sec] 0.11230271462150145\n",
      "Máximo tiempo de ejecución [sec] 0.38587470003403723\n",
      "Mínimo tiempo de ejecución [sec] 0.11444810009561479\n"
     ]
    }
   ],
   "source": [
    "print(\"Promedio de tiempo [sec]\", result[\"promedio\"])\n",
    "print(\"Desvío estandar de tiempo de ejecución [sec]\", result[\"desvio\"])\n",
    "print(\"Máximo tiempo de ejecución [sec]\", result[\"maximo\"])\n",
    "print(\"Mínimo tiempo de ejecución [sec]\", result[\"minimo\"])"
   ]
  },
  {
   "cell_type": "markdown",
   "id": "be68ac60",
   "metadata": {},
   "source": [
    "### 7. Si la solución óptima es de $2^k - 1$ movimientos...\n",
    "\n",
    "**Pregunta**: 7. Si la solución óptima es de $2^k - 1$ movimientos (siendo *k* el número de discos), ¿qué tan lejos está la solución encontrada por el algoritmo implementado de esa solución óptima? (Se recomienda ejecutar al menos 10 veces y usar el promedio de los trayectos obtenidos).\n",
    "\n",
    "Para el problema de Torres de Hanoi con las siguientes características:\n",
    "- Cantidad de discos: cinco (5)\n",
    "- Cantidad de varillas: tres (3)\n",
    "- Algoritmo: `A*`\n",
    "- Función de costo: `G(nodo) = 1`\n",
    "- Heurística: `H(nodo) = (nodo.estado.cant_discos_en_última_varilla)*(-1)`\n",
    "\n",
    "la cantidad de movimientos necesarias para resolverlo es de **38 movimientos**.\n",
    "La solución óptima de $2^k -1$, con un `k=5` es de **31 movimientos**, lo cual indica que nuestra solución está lejos de este valor óptimo.\n",
    "\n",
    "A priori, podemos decir que esto se debe a la combinación que usamos de *función de costos* y la *heurística*:\n",
    "- `Función de costo`: ya que la misma es uniforme para todos los discos. En nuestro caso, no tiene sentido cambiarla, pero para otros problemas, permitiría al algoritmo hace un mejor uso de su *cola de prioridad*.\n",
    "- `Heurística`: si bien es una buena heurística \"para comenzar\", capaz que convenga explorar heurísticas más complejas, y analizar como afectan las mismas los tiempos de ejecución, la memoria requerida y, principalmente, la cantidad de movimientos necesaria."
   ]
  },
  {
   "cell_type": "code",
   "execution_count": 11,
   "id": "1a80e1a7",
   "metadata": {},
   "outputs": [],
   "source": [
    "# Promedio de trayectos\n",
    "metricsCalculator = MetricsCalculator(cantidad_de_ejecuciones=cantidad_de_ejecuciones, funcion_a_ejecutar=funcion_a_ejecutar)\n",
    "result = metricsCalculator.ejecutar_y_analizar_trayectos()"
   ]
  },
  {
   "cell_type": "code",
   "execution_count": 13,
   "id": "aa305024",
   "metadata": {},
   "outputs": [
    {
     "name": "stdout",
     "output_type": "stream",
     "text": [
      "Promedio de cantidad de movimientos 38\n",
      "Desvío estandar de cantidad de movimientos 0.0\n",
      "Máxima cantidad de movimientos 38\n",
      "Mínima cantidad de movimientos 38\n"
     ]
    }
   ],
   "source": [
    "print(\"Promedio de cantidad de movimientos\", result[\"promedio\"])\n",
    "print(\"Desvío estandar de cantidad de movimientos\", result[\"desvio\"])\n",
    "print(\"Máxima cantidad de movimientos\", result[\"maximo\"])\n",
    "print(\"Mínima cantidad de movimientos\", result[\"minimo\"])"
   ]
  }
 ],
 "metadata": {
  "kernelspec": {
   "display_name": "ia_env_3_11_9",
   "language": "python",
   "name": "python3"
  },
  "language_info": {
   "codemirror_mode": {
    "name": "ipython",
    "version": 3
   },
   "file_extension": ".py",
   "mimetype": "text/x-python",
   "name": "python",
   "nbconvert_exporter": "python",
   "pygments_lexer": "ipython3",
   "version": "3.11.9"
  }
 },
 "nbformat": 4,
 "nbformat_minor": 5
}
